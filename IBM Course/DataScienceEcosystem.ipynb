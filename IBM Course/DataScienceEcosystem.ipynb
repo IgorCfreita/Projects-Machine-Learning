{
 "cells": [
  {
   "cell_type": "markdown",
   "id": "6c382758",
   "metadata": {},
   "source": [
    "<H1> Data Science Tools and Ecosystem"
   ]
  },
  {
   "cell_type": "markdown",
   "id": "67391400",
   "metadata": {},
   "source": [
    "In this notebook, Data Science Tools and Ecosystem are summarized."
   ]
  },
  {
   "cell_type": "markdown",
   "id": "d3d3f5a4",
   "metadata": {},
   "source": [
    "**Objectives:**\n",
    "\n",
    "- List popular languages that Data Scientists use.\n",
    "- List commonly used libraries used by Data Scientists.\n",
    "- Comment on Data Science tools.\n"
   ]
  },
  {
   "cell_type": "markdown",
   "id": "6fb38ff5",
   "metadata": {},
   "source": [
    "Some of the popular languages that Data Scientists use are:\n",
    "1. Python\n",
    "2. R\n",
    "3. Java\n",
    "4. Julia"
   ]
  },
  {
   "cell_type": "markdown",
   "id": "cb4a119e",
   "metadata": {},
   "source": [
    "Some of the commonly used libraries used by Data Scientists include:\n",
    "1. Numpy\n",
    "2. Pandas\n",
    "3. SciPy\n",
    "4. SciKit-Learn\n",
    "5. Tensorflow\n",
    "6. Keras"
   ]
  },
  {
   "cell_type": "markdown",
   "id": "030a0722",
   "metadata": {},
   "source": [
    "| Data Science Tools |\n",
    "| :-------------------: |\n",
    "| Apache Spark |\n",
    "| Jupyter Notebook |\n",
    "| Keras |\n",
    "| IBM SPSS |\n"
   ]
  },
  {
   "cell_type": "markdown",
   "id": "1cd3d6b3",
   "metadata": {},
   "source": [
    "<H3> Below are a few examples of evaluating arithmetic expressions in Python"
   ]
  },
  {
   "cell_type": "code",
   "execution_count": 1,
   "id": "28575961",
   "metadata": {},
   "outputs": [
    {
     "data": {
      "text/plain": [
       "13"
      ]
     },
     "execution_count": 1,
     "metadata": {},
     "output_type": "execute_result"
    }
   ],
   "source": [
    "# Arithmetic operations\n",
    "code = compile(\"6 + 7\", \"<string>\", \"eval\")\n",
    "eval(code)\n",
    "# Result: 13"
   ]
  },
  {
   "cell_type": "code",
   "execution_count": 2,
   "id": "c68482b9",
   "metadata": {},
   "outputs": [
    {
     "data": {
      "text/plain": [
       "8"
      ]
     },
     "execution_count": 2,
     "metadata": {},
     "output_type": "execute_result"
    }
   ],
   "source": [
    "code1 = compile(\"(5 - 3) * 4\", \"<string>\", \"eval\")\n",
    "eval(code1)\n",
    "# Result: 8"
   ]
  },
  {
   "cell_type": "code",
   "execution_count": 3,
   "id": "aef0d917",
   "metadata": {},
   "outputs": [
    {
     "data": {
      "text/plain": [
       "5.333333333333333"
      ]
     },
     "execution_count": 3,
     "metadata": {},
     "output_type": "execute_result"
    }
   ],
   "source": [
    "code1 = compile(\"(2 * 8) / 3\", \"<string>\", \"eval\")\n",
    "eval(code1)\n",
    "# Result: 5.333333"
   ]
  },
  {
   "cell_type": "markdown",
   "id": "4847147f",
   "metadata": {},
   "source": [
    "This a simple arithmetic expression to mutiply then add integers"
   ]
  },
  {
   "cell_type": "code",
   "execution_count": 4,
   "id": "9f4cc123",
   "metadata": {},
   "outputs": [
    {
     "data": {
      "text/plain": [
       "17"
      ]
     },
     "execution_count": 4,
     "metadata": {},
     "output_type": "execute_result"
    }
   ],
   "source": [
    "(3*4)+5\n",
    "# Result: 17"
   ]
  },
  {
   "cell_type": "markdown",
   "id": "eee1b001",
   "metadata": {},
   "source": [
    "This will convert 200 minutes to hours by diving by 60"
   ]
  },
  {
   "cell_type": "code",
   "execution_count": 5,
   "id": "79aec552",
   "metadata": {},
   "outputs": [
    {
     "name": "stdout",
     "output_type": "stream",
     "text": [
      "0 days, 3 hours, 20 mins. \n"
     ]
    }
   ],
   "source": [
    "days = 0\n",
    "hours = 0\n",
    "mins = 0\n",
    "time = 200\n",
    "\n",
    "days = time // 1440\n",
    "hours = (time-(days*1440))//60\n",
    "mins = (time - (days*1440) -(hours*60))\n",
    "print(str(days) + \" days, \" + str(hours) + \" hours, \" + str(mins) +  \" mins. \")\n",
    "# Result: 0 days, 3 hours, 20 mins"
   ]
  },
  {
   "cell_type": "markdown",
   "id": "189c9975",
   "metadata": {},
   "source": [
    "<H2>Author: "
   ]
  },
  {
   "cell_type": "markdown",
   "id": "256ae034",
   "metadata": {},
   "source": [
    "Igor Coelho"
   ]
  }
 ],
 "metadata": {
  "kernelspec": {
   "display_name": "Python 3 (ipykernel)",
   "language": "python",
   "name": "python3"
  },
  "language_info": {
   "codemirror_mode": {
    "name": "ipython",
    "version": 3
   },
   "file_extension": ".py",
   "mimetype": "text/x-python",
   "name": "python",
   "nbconvert_exporter": "python",
   "pygments_lexer": "ipython3",
   "version": "3.8.5"
  }
 },
 "nbformat": 4,
 "nbformat_minor": 5
}
